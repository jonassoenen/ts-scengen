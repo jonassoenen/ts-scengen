{
 "cells": [
  {
   "cell_type": "markdown",
   "id": "a0d812a3",
   "metadata": {},
   "source": [
    "# Overall comparison\n",
    "Straight forward comparison between the two baselines (random, RLP) and the two proposed techniques expert-based and data-driven."
   ]
  },
  {
   "cell_type": "code",
   "execution_count": null,
   "id": "a194690c-8f5c-4df7-a63d-b4caa6332bdf",
   "metadata": {},
   "outputs": [],
   "source": [
    "import altair as alt\n",
    "# standard imports\n",
    "import numpy as np\n",
    "import pandas as pd\n",
    "\n",
    "alt.data_transformers.disable_max_rows()\n",
    "from pathlib import Path\n",
    "\n",
    "# loading the data \n",
    "from scengen.data import generate_mockup_data\n",
    "\n",
    "# preprocessing the yearly info \n",
    "from scengen.preprocessing import YearlyInfoPreprocessor\n",
    "\n",
    "# sampling models \n",
    "from scengen.models.samplers import (RandomSampler, DailySamplerFromClusterSampler)\n",
    "from scengen.models.basesamplers import (ExpertDaySelectionSampler, MetadataClusterSampler, ConsumptionClusterSampler)\n",
    "from scengen.models.generators import RLPGenerator\n",
    "\n",
    "# clustering helpers\n",
    "from scengen.cluster.elbow import ElbowMethod\n",
    "import scengen.cluster.metrics as dist_metrics\n",
    "\n",
    "# clustering algorithms \n",
    "from sklearn.cluster import KMeans\n",
    "from kmedoids import KMedoids\n",
    "\n",
    "# classifiers \n",
    "from sklearn.ensemble import RandomForestClassifier\n",
    "\n",
    "# evaluation \n",
    "from scengen.evaluation import SamplerEvaluator"
   ]
  },
  {
   "cell_type": "markdown",
   "id": "9119e2d3",
   "metadata": {},
   "source": [
    "## Load the mock-up data"
   ]
  },
  {
   "cell_type": "code",
   "execution_count": null,
   "id": "04710ba2-9e97-4ec0-9bc5-0c9f8d18478b",
   "metadata": {},
   "outputs": [],
   "source": [
    "yearly_data_df, daily_data_df, yearly_info_df, daily_info_df = generate_mockup_data()"
   ]
  },
  {
   "cell_type": "code",
   "execution_count": null,
   "id": "9f22d636-fd11-4f2a-946f-300dd38d01e4",
   "metadata": {},
   "outputs": [],
   "source": [
    "yearly_data_df"
   ]
  },
  {
   "cell_type": "markdown",
   "id": "9958438d",
   "metadata": {},
   "source": [
    "# Generate folds for cross validation"
   ]
  },
  {
   "cell_type": "code",
   "execution_count": null,
   "id": "eee47c2e",
   "metadata": {
    "collapsed": false,
    "jupyter": {
     "outputs_hidden": false
    }
   },
   "outputs": [],
   "source": [
    "rand_gen = np.random.default_rng(12341243)\n",
    "folds = np.array_split(yearly_data_df.index, 5)"
   ]
  },
  {
   "cell_type": "markdown",
   "id": "07fbb4eb",
   "metadata": {},
   "source": [
    "# Models to compare"
   ]
  },
  {
   "cell_type": "code",
   "execution_count": null,
   "id": "90c627d2",
   "metadata": {
    "collapsed": false,
    "jupyter": {
     "outputs_hidden": false
    }
   },
   "outputs": [],
   "source": [
    "models = dict()\n",
    "NB_SAMPLES = 250\n",
    "CLUSTER_RANGE = list(range(10, 101, 5))\n",
    "\n",
    "# random baseline\n",
    "models['random baseline'] = RandomSampler()\n",
    "\n",
    "# RLP/SLP baseline\n",
    "# this method needs to see the full dataset (both training and test set) in order to be able to assign the profiles to the correct RLP or SLP category.\n",
    "models['SLP baseline'] = RLPGenerator(yearly_data_df)\n",
    "\n",
    "# the expert-based technique\n",
    "# the expert-based technique with metadata clustering for year selection\n",
    "# and expert day selection for day selection\n",
    "models['expert-based'] = (\n",
    "    DailySamplerFromClusterSampler(\n",
    "        yearly_sampler=MetadataClusterSampler(\n",
    "            clusterer=ElbowMethod(KMeans(n_clusters=1, n_init=10), cluster_range=CLUSTER_RANGE),\n",
    "            info_preprocessing=YearlyInfoPreprocessor(columns_to_use=['yearly_consumption', 'connection_power'],\n",
    "                                                      normalized=True),\n",
    "        ),\n",
    "        daily_sampler=ExpertDaySelectionSampler()\n",
    "    )\n",
    ")\n",
    "\n",
    "# data-driven technique\n",
    "# the data driven approach with consumption clustering for both year and day selection\n",
    "models['data-driven'] = (\n",
    "    DailySamplerFromClusterSampler(\n",
    "        yearly_sampler=ConsumptionClusterSampler(\n",
    "            classifier=RandomForestClassifier(),\n",
    "            clusterer=ElbowMethod(KMedoids(n_clusters=1, method='fasterpam'),\n",
    "                                  metric=dist_metrics.euc_distance_matrix_missing, cluster_range=CLUSTER_RANGE,\n",
    "                                  nb_repeats=10),\n",
    "            fillna=False\n",
    "        ),\n",
    "        daily_sampler=ConsumptionClusterSampler(\n",
    "            classifier=RandomForestClassifier(),\n",
    "#             # In publication we use the elbow method here\n",
    "#             clusterer=ElbowMethod(\n",
    "#                 clusterer=KMeans(n_clusters=1),\n",
    "#                 cluster_range=CLUSTER_RANGE,\n",
    "#             ),\n",
    "#            # for the mock-up example just use 10 clusters in every case\n",
    "             clusterer = KMeans(n_clusters = 10),\n",
    "        ),\n",
    "    )\n",
    ")\n",
    "\n"
   ]
  },
  {
   "cell_type": "markdown",
   "id": "1937c8f3",
   "metadata": {},
   "source": [
    "## Configure logging"
   ]
  },
  {
   "cell_type": "code",
   "execution_count": null,
   "id": "5843b9de-f32e-4fa5-8058-8093fe02b24f",
   "metadata": {},
   "outputs": [],
   "source": [
    "import logging\n",
    "import datetime\n",
    "\n",
    "logging.basicConfig(format='%(asctime)s - %(name)s: %(message)s', level=logging.DEBUG,\n",
    "                    filename=f'{datetime.datetime.now().strftime(\"%d-%m-%Y\")}.log',\n",
    "                    filemode='w')"
   ]
  },
  {
   "cell_type": "markdown",
   "id": "b03381ff",
   "metadata": {},
   "source": [
    "## Run the experiments"
   ]
  },
  {
   "cell_type": "code",
   "execution_count": null,
   "id": "da50d5a9-859a-4b18-a890-2ded9b983eae",
   "metadata": {},
   "outputs": [],
   "source": [
    "%%time\n",
    "result_path = Path() / 'results' / 'overall_comparison'\n",
    "result_path.mkdir(parents=True, exist_ok=True)\n",
    "\n",
    "energy_scores = []\n",
    "evaluator = SamplerEvaluator(folds, yearly_data_df, daily_data_df, yearly_info_df, daily_info_df, None, 1,\n",
    "                             nb_samples=100, crossval=False)\n",
    "for key, model in list(models.items()):\n",
    "    energy_score = evaluator.evaluate_and_save(model, result_path / f\"{key}.pkl\")\n",
    "    energy_scores.append(energy_score)\n",
    "energy_scores = pd.concat(energy_scores, axis=1, keys=models.keys())"
   ]
  },
  {
   "cell_type": "markdown",
   "id": "b7441bd3",
   "metadata": {},
   "source": [
    "## Overall energy scores"
   ]
  },
  {
   "cell_type": "code",
   "execution_count": null,
   "id": "19665053",
   "metadata": {
    "collapsed": false,
    "jupyter": {
     "outputs_hidden": false
    },
    "pycharm": {
     "is_executing": true
    }
   },
   "outputs": [],
   "source": [
    "energy_scores.mean(axis = 0)"
   ]
  }
 ],
 "metadata": {
  "kernelspec": {
   "display_name": "scengen",
   "language": "python",
   "name": "scengen"
  },
  "language_info": {
   "codemirror_mode": {
    "name": "ipython",
    "version": 3
   },
   "file_extension": ".py",
   "mimetype": "text/x-python",
   "name": "python",
   "nbconvert_exporter": "python",
   "pygments_lexer": "ipython3",
   "version": "3.10.8"
  }
 },
 "nbformat": 4,
 "nbformat_minor": 5
}
